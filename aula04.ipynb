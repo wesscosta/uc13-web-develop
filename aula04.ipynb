{
 "cells": [
  {
   "cell_type": "code",
   "execution_count": 15,
   "metadata": {},
   "outputs": [
    {
     "name": "stdout",
     "output_type": "stream",
     "text": [
      "Bruna\n"
     ]
    }
   ],
   "source": [
    "alunos = ['Ana', 'Bruna', 'Davi','Joãozinho']\n",
    "print(alunos[1])"
   ]
  },
  {
   "cell_type": "code",
   "execution_count": 17,
   "metadata": {},
   "outputs": [
    {
     "ename": "KeyError",
     "evalue": "2",
     "output_type": "error",
     "traceback": [
      "\u001b[1;31m---------------------------------------------------------------------------\u001b[0m",
      "\u001b[1;31mKeyError\u001b[0m                                  Traceback (most recent call last)",
      "Cell \u001b[1;32mIn[38], line 8\u001b[0m\n\u001b[0;32m      1\u001b[0m pessoa \u001b[38;5;241m=\u001b[39m {\n\u001b[0;32m      2\u001b[0m \t\u001b[38;5;124m'\u001b[39m\u001b[38;5;124mnome\u001b[39m\u001b[38;5;124m'\u001b[39m: \u001b[38;5;124m'\u001b[39m\u001b[38;5;124mJoão\u001b[39m\u001b[38;5;124m'\u001b[39m, \n\u001b[0;32m      3\u001b[0m \t\u001b[38;5;124m'\u001b[39m\u001b[38;5;124midade\u001b[39m\u001b[38;5;124m'\u001b[39m: \u001b[38;5;241m1\u001b[39m, \n\u001b[0;32m      4\u001b[0m \t\u001b[38;5;124m'\u001b[39m\u001b[38;5;124mcidade\u001b[39m\u001b[38;5;124m'\u001b[39m: \u001b[38;5;124m'\u001b[39m\u001b[38;5;124mSão Paulo\u001b[39m\u001b[38;5;124m'\u001b[39m\n\u001b[0;32m      5\u001b[0m }\n\u001b[1;32m----> 8\u001b[0m \u001b[38;5;28mprint\u001b[39m(\u001b[43mpessoa\u001b[49m\u001b[43m[\u001b[49m\u001b[38;5;241;43m2\u001b[39;49m\u001b[43m]\u001b[49m)\n",
      "\u001b[1;31mKeyError\u001b[0m: 2"
     ]
    }
   ],
   "source": [
    "pessoa = {\n",
    "\t'nome': 'João', \n",
    "\t'idade': 1, \n",
    "\t'cidade': 'São Paulo'\n",
    "}\n",
    "\n",
    "\n",
    "print(pessoa[2])"
   ]
  },
  {
   "cell_type": "code",
   "execution_count": 39,
   "metadata": {},
   "outputs": [
    {
     "name": "stdout",
     "output_type": "stream",
     "text": [
      "['POO1', 'POO2', 'JAVA', 'JS', 'Python']\n",
      "POO1\n"
     ]
    }
   ],
   "source": [
    "endereco ={\n",
    "    'Lagradouro': ' Campos Sales',\n",
    "    'numero': 'S/N',\n",
    "    'bairro': 'Centro', \n",
    "    'cidade': 'Teresina',\n",
    "    'UF': 'Piauí'\n",
    "  }\n",
    "\n",
    "programacao = ['POO1', 'POO2', 'JAVA','JS','Python']\n",
    "\n",
    "turma = [programacao,'Banco de Dados','redes', 'Manutenção em Computadores']\n",
    "\n",
    "aluno = {\n",
    "  'nome': \"João da Silva Pereira\",\n",
    "  'data_nascimento': '01/01/2000',\n",
    "  'cpf': '123.321.456-18',\n",
    "  'matricula':'202123',\n",
    "  'telefone':\"86 99999-9999\",\n",
    "  'email':'jose@gmail.com',\n",
    "  'endereco' : endereco['Lagradouro'],\n",
    "  'turma':turma[0][4],\n",
    "}\n",
    "\n",
    "\n",
    "# # print(endereco)\n",
    "# print(aluno['turma'])\n",
    "print(programacao)\n",
    "\n",
    "programacao.append('PHP')\n",
    "programacao.append('Ruby')\n",
    "# programacao.pop(1)\n",
    "\n",
    "print(programacao[-7])"
   ]
  }
 ],
 "metadata": {
  "kernelspec": {
   "display_name": "Python 3",
   "language": "python",
   "name": "python3"
  },
  "language_info": {
   "codemirror_mode": {
    "name": "ipython",
    "version": 3
   },
   "file_extension": ".py",
   "mimetype": "text/x-python",
   "name": "python",
   "nbconvert_exporter": "python",
   "pygments_lexer": "ipython3",
   "version": "3.13.1"
  }
 },
 "nbformat": 4,
 "nbformat_minor": 2
}
