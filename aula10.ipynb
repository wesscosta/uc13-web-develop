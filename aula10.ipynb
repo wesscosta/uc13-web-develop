{
 "cells": [
  {
   "cell_type": "code",
   "execution_count": 8,
   "metadata": {},
   "outputs": [
    {
     "name": "stdout",
     "output_type": "stream",
     "text": [
      "Aula de Programação\n"
     ]
    }
   ],
   "source": [
    "dia_semana = input(\"Que dia é hoje: \")\n",
    "hora = int(input('Digite a hora atual: '))\n",
    "\n",
    "if (dia_semana == 'quarta' and hora>=19):\n",
    "  print('Aula de Programação')\n",
    "else:\n",
    "  print('Hoje é Desenvolvimento de Games')\n",
    "  "
   ]
  },
  {
   "cell_type": "markdown",
   "metadata": {},
   "source": [
    "#Função"
   ]
  },
  {
   "cell_type": "code",
   "execution_count": null,
   "metadata": {},
   "outputs": [
    {
     "data": {
      "text/plain": [
       "'Olá joão, seja bem vindo!'"
      ]
     },
     "execution_count": 15,
     "metadata": {},
     "output_type": "execute_result"
    }
   ],
   "source": [
    "def saudacao(text):\n",
    "  return (f'Olá {text}, seja bem vindo!')\n",
    "  \n",
    "  \n",
    "nome = input(\"Digite seu nome: \")\n",
    "frase = saudacao(nome)\n",
    "print(frase)"
   ]
  },
  {
   "cell_type": "code",
   "execution_count": null,
   "metadata": {},
   "outputs": [],
   "source": [
    "def soma(num1, num2):\n",
    "  return num1+num2\n",
    "\n",
    "def sub(num1, num2):\n",
    "  return num1-num2\n",
    "\n",
    "def mult(num1, num2):\n",
    "  return num1*num2\n",
    "\n",
    "def div(num1, num2):\n",
    "  return num1/num2\n",
    "\n",
    "def porc(num1, num2):\n",
    "  return (num1*num2)/100"
   ]
  },
  {
   "cell_type": "code",
   "execution_count": 17,
   "metadata": {},
   "outputs": [
    {
     "name": "stdout",
     "output_type": "stream",
     "text": [
      "-5.0\n"
     ]
    }
   ],
   "source": [
    "\n",
    "\n",
    "a = float(input('Digite um numero: '))\n",
    "b = float(input('Digite outro numero: '))\n",
    "\n",
    "calc = soma(a,b)\n",
    "print('O resultado da operação de {OPERACAO} de {a} e {b} é {RESULTADO}')\n",
    "\n"
   ]
  }
 ],
 "metadata": {
  "kernelspec": {
   "display_name": "Python 3",
   "language": "python",
   "name": "python3"
  },
  "language_info": {
   "codemirror_mode": {
    "name": "ipython",
    "version": 3
   },
   "file_extension": ".py",
   "mimetype": "text/x-python",
   "name": "python",
   "nbconvert_exporter": "python",
   "pygments_lexer": "ipython3",
   "version": "3.13.1"
  }
 },
 "nbformat": 4,
 "nbformat_minor": 2
}
