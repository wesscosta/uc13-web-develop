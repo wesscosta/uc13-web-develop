{
 "cells": [
  {
   "cell_type": "code",
   "execution_count": 8,
   "metadata": {},
   "outputs": [
    {
     "name": "stdout",
     "output_type": "stream",
     "text": [
      "Aula de Programação\n"
     ]
    }
   ],
   "source": [
    "dia_semana = input(\"Que dia é hoje: \")\n",
    "hora = int(input('Digite a hora atual: '))\n",
    "\n",
    "if (dia_semana == 'quarta' and hora>=19):\n",
    "  print('Aula de Programação')\n",
    "else:\n",
    "  print('Hoje é Desenvolvimento de Games')\n",
    "  "
   ]
  },
  {
   "cell_type": "markdown",
   "metadata": {},
   "source": [
    "### Função"
   ]
  },
  {
   "cell_type": "code",
   "execution_count": null,
   "metadata": {},
   "outputs": [
    {
     "data": {
      "text/plain": [
       "'Olá joão, seja bem vindo!'"
      ]
     },
     "execution_count": 15,
     "metadata": {},
     "output_type": "execute_result"
    }
   ],
   "source": [
    "def saudacao(text):\n",
    "  return (f'Olá {text}, seja bem vindo!')\n",
    "  \n",
    "  \n",
    "nome = input(\"Digite seu nome: \")\n",
    "frase = saudacao(nome)\n",
    "print(frase)"
   ]
  },
  {
   "cell_type": "markdown",
   "metadata": {},
   "source": [
    "### Calculadora"
   ]
  },
  {
   "cell_type": "code",
   "execution_count": null,
   "metadata": {},
   "outputs": [],
   "source": [
    "import math\n",
    "\n",
    "def soma(num1, num2):\n",
    "  #return ['SOMA', num1+num2] # Usando Lista  \n",
    "  return {'operacao':'SOMA','resultado':num1+num2}\n",
    "\n",
    "def sub(num1, num2):\n",
    "  return {'operacao':'SUBTRACAO','resultado':num1-num2}\n",
    "\n",
    "def mult(num1, num2):\n",
    "  return {'operacao':'MULTIPLICAÇÃO','resultado':num1*num2}\n",
    "\n",
    "def div(num1, num2):\n",
    "  return {'operacao':'DIVISAO','resultado':num1/num2}\n",
    "\n",
    "def porc(num1, num2):\n",
    "  return {'operacao':'PORCENTAGEM','resultado': (num1*num2)/100 }\n",
    "\n",
    "def potencia(num1,num2):\n",
    "  # resultado = math.pow(num1,num2)\n",
    "  resultado =  num1**num2\n",
    "  return {'operacao':'POTENCIA', 'resultado': resultado}\n",
    "\n",
    "def raiz(num1,num2):\n",
    "  # resultado = math.sqrt(num1)\n",
    "  resultado = math.pow(num1,1/num2)\n",
    "  return {'operacao':'RAIZ', 'resultado': resultado}\n",
    "\n",
    "def resto(num1,num2):\n",
    "  return {'operacao':'POTENCIA', 'resultado': num1%num2}\n"
   ]
  },
  {
   "cell_type": "code",
   "execution_count": 16,
   "metadata": {},
   "outputs": [
    {
     "ename": "ValueError",
     "evalue": "invalid literal for int() with base 10: ''",
     "output_type": "error",
     "traceback": [
      "\u001b[1;31m---------------------------------------------------------------------------\u001b[0m",
      "\u001b[1;31mValueError\u001b[0m                                Traceback (most recent call last)",
      "Cell \u001b[1;32mIn[16], line 8\u001b[0m\n\u001b[0;32m      4\u001b[0m b \u001b[38;5;241m=\u001b[39m \u001b[38;5;28mfloat\u001b[39m(\u001b[38;5;28minput\u001b[39m(\u001b[38;5;124m'\u001b[39m\u001b[38;5;124mDigite outro numero: \u001b[39m\u001b[38;5;124m'\u001b[39m))\n\u001b[0;32m      6\u001b[0m calc \u001b[38;5;241m=\u001b[39m raiz(a,b)\n\u001b[1;32m----> 8\u001b[0m opcao \u001b[38;5;241m=\u001b[39m \u001b[38;5;28;43mint\u001b[39;49m\u001b[43m(\u001b[49m\u001b[38;5;28;43minput\u001b[39;49m\u001b[43m(\u001b[49m\u001b[38;5;124;43m'\u001b[39;49m\u001b[38;5;124;43mDigite o número referente a operação escolhida: \u001b[39;49m\u001b[38;5;130;43;01m\\n\u001b[39;49;00m\u001b[38;5;124;43m 1-soma \u001b[39;49m\u001b[38;5;130;43;01m\\n\u001b[39;49;00m\u001b[38;5;124;43m 2-subtração\u001b[39;49m\u001b[38;5;130;43;01m\\n\u001b[39;49;00m\u001b[38;5;124;43m 3-multiplicacao \u001b[39;49m\u001b[38;5;130;43;01m\\n\u001b[39;49;00m\u001b[38;5;124;43m 4- divisão\u001b[39;49m\u001b[38;5;130;43;01m\\n\u001b[39;49;00m\u001b[38;5;124;43m 5-porcentagem\u001b[39;49m\u001b[38;5;130;43;01m\\n\u001b[39;49;00m\u001b[38;5;124;43m 6-potencia\u001b[39;49m\u001b[38;5;130;43;01m\\n\u001b[39;49;00m\u001b[38;5;124;43m 7-raiz\u001b[39;49m\u001b[38;5;130;43;01m\\n\u001b[39;49;00m\u001b[38;5;124;43m 8-resto\u001b[39;49m\u001b[38;5;124;43m'\u001b[39;49m\u001b[43m)\u001b[49m\u001b[43m)\u001b[49m\n\u001b[0;32m     11\u001b[0m \u001b[38;5;66;03m# print(f'O resultado da operação de {calc[0]} de {a} e {b} é {calc[1]}')\u001b[39;00m\n\u001b[0;32m     12\u001b[0m \u001b[38;5;28mprint\u001b[39m(\u001b[38;5;124mf\u001b[39m\u001b[38;5;124m'\u001b[39m\u001b[38;5;124mO resultado da operação de \u001b[39m\u001b[38;5;132;01m{\u001b[39;00mcalc[\u001b[38;5;124m'\u001b[39m\u001b[38;5;124moperacao\u001b[39m\u001b[38;5;124m'\u001b[39m]\u001b[38;5;132;01m}\u001b[39;00m\u001b[38;5;124m de \u001b[39m\u001b[38;5;132;01m{\u001b[39;00ma\u001b[38;5;132;01m}\u001b[39;00m\u001b[38;5;124m e \u001b[39m\u001b[38;5;132;01m{\u001b[39;00mb\u001b[38;5;132;01m}\u001b[39;00m\u001b[38;5;124m é \u001b[39m\u001b[38;5;132;01m{\u001b[39;00mcalc[\u001b[38;5;124m'\u001b[39m\u001b[38;5;124mresultado\u001b[39m\u001b[38;5;124m'\u001b[39m]\u001b[38;5;132;01m}\u001b[39;00m\u001b[38;5;124m'\u001b[39m)\n",
      "\u001b[1;31mValueError\u001b[0m: invalid literal for int() with base 10: ''"
     ]
    }
   ],
   "source": [
    "# Usando (if - elif - else)\n",
    "\n",
    "a = float(input('Digite um numero: '))\n",
    "b = float(input('Digite outro numero: '))\n",
    "\n",
    "calc = raiz(a,b)\n",
    "\n",
    "opcao = int(input('Digite o número referente a operação escolhida: \\n 1-soma \\n 2-subtração\\n 3-multiplicacao \\n 4- divisão\\n 5-porcentagem\\n 6-potencia\\n 7-raiz\\n 8-resto'))\n",
    "\n",
    "\n",
    "# print(f'O resultado da operação de {calc[0]} de {a} e {b} é {calc[1]}')\n",
    "print(f'O resultado da operação de {calc['operacao']} de {a} e {b} é {calc['resultado']}')"
   ]
  },
  {
   "cell_type": "code",
   "execution_count": null,
   "metadata": {},
   "outputs": [],
   "source": [
    "\n",
    "a = float(input('Digite um numero: '))\n",
    "b = float(input('Digite outro numero: '))\n",
    "\n",
    "calc = raiz(a,b)\n",
    "\n",
    "\n",
    "\n",
    "# print(f'O resultado da operação de {calc[0]} de {a} e {b} é {calc[1]}')\n",
    "print(f'O resultado da operação de {calc['operacao']} de {a} e {b} é {calc['resultado']}')"
   ]
  }
 ],
 "metadata": {
  "kernelspec": {
   "display_name": "Python 3",
   "language": "python",
   "name": "python3"
  },
  "language_info": {
   "codemirror_mode": {
    "name": "ipython",
    "version": 3
   },
   "file_extension": ".py",
   "mimetype": "text/x-python",
   "name": "python",
   "nbconvert_exporter": "python",
   "pygments_lexer": "ipython3",
   "version": "3.13.1"
  }
 },
 "nbformat": 4,
 "nbformat_minor": 2
}
