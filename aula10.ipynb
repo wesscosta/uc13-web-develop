{
 "cells": [
  {
   "cell_type": "code",
   "execution_count": 8,
   "metadata": {},
   "outputs": [
    {
     "name": "stdout",
     "output_type": "stream",
     "text": [
      "Aula de Programação\n"
     ]
    }
   ],
   "source": [
    "dia_semana = input(\"Que dia é hoje: \")\n",
    "hora = int(input('Digite a hora atual: '))\n",
    "\n",
    "if (dia_semana == 'quarta' and hora>=19):\n",
    "  print('Aula de Programação')\n",
    "else:\n",
    "  print('Hoje é Desenvolvimento de Games')\n",
    "  "
   ]
  },
  {
   "cell_type": "markdown",
   "metadata": {},
   "source": [
    "### Função"
   ]
  },
  {
   "cell_type": "code",
   "execution_count": null,
   "metadata": {},
   "outputs": [
    {
     "data": {
      "text/plain": [
       "'Olá joão, seja bem vindo!'"
      ]
     },
     "execution_count": 15,
     "metadata": {},
     "output_type": "execute_result"
    }
   ],
   "source": [
    "def saudacao(text):\n",
    "  return (f'Olá {text}, seja bem vindo!')\n",
    "  \n",
    "  \n",
    "nome = input(\"Digite seu nome: \")\n",
    "frase = saudacao(nome)\n",
    "print(frase)"
   ]
  },
  {
   "cell_type": "markdown",
   "metadata": {},
   "source": [
    "### Calculadora"
   ]
  },
  {
   "cell_type": "code",
   "execution_count": null,
   "metadata": {},
   "outputs": [],
   "source": [
    "import math\n",
    "\n",
    "def soma(num1, num2):\n",
    "  #return ['SOMA', num1+num2] # Usando Lista  \n",
    "  return {'operacao':'SOMA','resultado':num1+num2}\n",
    "\n",
    "def sub(num1, num2):\n",
    "  return {'operacao':'SUBTRACAO','resultado':num1-num2}\n",
    "\n",
    "def mult(num1, num2):\n",
    "  return {'operacao':'MULTIPLICAÇÃO','resultado':num1*num2}\n",
    "\n",
    "def div(num1, num2):\n",
    "  return {'operacao':'DIVISAO','resultado':num1/num2}\n",
    "\n",
    "def porc(num1, num2):\n",
    "  return {'operacao':'PORCENTAGEM','resultado': (num1*num2)/100 }\n",
    "\n",
    "def potencia(num1,num2):\n",
    "  # resultado = math.pow(num1,num2)\n",
    "  resultado =  num1**num2\n",
    "  return {'operacao':'POTENCIA', 'resultado': resultado}\n",
    "\n",
    "def raiz(num1,num2):\n",
    "  # resultado = math.sqrt(num1)\n",
    "  resultado = math.pow(num1,1/num2)\n",
    "  return {'operacao':'RAIZ', 'resultado': resultado}\n",
    "\n",
    "def resto(num1,num2):\n",
    "  return {'operacao':'POTENCIA', 'resultado': num1%num2}\n",
    "\n",
    "\n",
    "def opcao():\n",
    "  opcao = int(input('Digite o número referente a operação escolhida: \\n 1-soma \\n 2-subtração\\n 3-multiplicacao \\n 4- divisão\\n 5-porcentagem\\n 6-potencia\\n 7-raiz\\n 8-resto'))\n",
    "  return opcao\n"
   ]
  },
  {
   "cell_type": "markdown",
   "metadata": {},
   "source": [
    "### Usando (if - elif - else):"
   ]
  },
  {
   "cell_type": "code",
   "execution_count": null,
   "metadata": {},
   "outputs": [
    {
     "name": "stdout",
     "output_type": "stream",
     "text": [
      "O resultado da operação de MULTIPLICAÇÃO de 5.0 e 10.0 é 50.0\n"
     ]
    }
   ],
   "source": [
    "escolha = 0\n",
    "\n",
    "while escolha<1 or escolha>3:\n",
    "  escolha = opcao()\n",
    "\n",
    "a = float(input('Digite um numero: '))\n",
    "b = float(input('Digite outro numero: '))\n",
    "calc = 0\n",
    "\n",
    "if escolha == 1:\n",
    "  calc = soma(a,b)\n",
    "elif escolha ==2:\n",
    "  calc = sub(a,b)\n",
    "elif escolha == 3:\n",
    "  calc = mult(a,b)\n",
    "elif escolha == 4: \n",
    "  calc = div(a,b)\n",
    "elif escolha == 5: \n",
    "  calc = porc(a,b)\n",
    "elif escolha == 6: \n",
    "  calc = potencia(a,b)\n",
    "elif escolha == 7: \n",
    "  calc = raiz(a,b)\n",
    "elif escolha == 8: \n",
    "  calc = resto(a,b)\n",
    "  \n",
    "# print(f'O resultado da operação de {calc[0]} de {a} e {b} é {calc[1]}')\n",
    "print(f'O resultado da operação de {calc['operacao']} de {a} e {b} é {calc['resultado']}')"
   ]
  },
  {
   "cell_type": "markdown",
   "metadata": {},
   "source": [
    "### Usando o MATCH-CASE"
   ]
  },
  {
   "cell_type": "code",
   "execution_count": null,
   "metadata": {},
   "outputs": [
    {
     "name": "stdout",
     "output_type": "stream",
     "text": [
      "O resultado da operação de DIVISAO de 10.0 3.0 é 3.33\n"
     ]
    }
   ],
   "source": [
    "escolha = 0\n",
    "\n",
    "while escolha<1 or escolha>3:\n",
    "  escolha = opcao()\n",
    "\n",
    "a = float(input('Digite um numero: '))\n",
    "b = float(input('Digite outro numero: '))\n",
    "calc = 0\n",
    "\n",
    "match escolha:\n",
    "  case 1: calc = soma(a,b)\n",
    "  case 2: calc = sub(a,b)\n",
    "  case 3: calc = mult(a,b)\n",
    "  case 4: calc = div(a,b)\n",
    "  case 5: calc = porc(a,b)\n",
    "  case 6: calc = potencia(a,b)\n",
    "  case 7: calc = raiz(a,b)\n",
    "  case 8: calc = resto(a,b)\n",
    "\n",
    "print (f'O resultado da operação de {calc['operacao']} de {round(a,1)} {round(b,1)} é {round(calc['resultado'],2)}')"
   ]
  },
  {
   "cell_type": "markdown",
   "metadata": {},
   "source": []
  }
 ],
 "metadata": {
  "kernelspec": {
   "display_name": "Python 3",
   "language": "python",
   "name": "python3"
  },
  "language_info": {
   "codemirror_mode": {
    "name": "ipython",
    "version": 3
   },
   "file_extension": ".py",
   "mimetype": "text/x-python",
   "name": "python",
   "nbconvert_exporter": "python",
   "pygments_lexer": "ipython3",
   "version": "3.13.1"
  }
 },
 "nbformat": 4,
 "nbformat_minor": 2
}
