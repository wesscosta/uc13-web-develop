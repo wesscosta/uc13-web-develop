{
 "cells": [
  {
   "cell_type": "code",
   "execution_count": 8,
   "metadata": {},
   "outputs": [
    {
     "name": "stdout",
     "output_type": "stream",
     "text": [
      "Aula de Programação\n"
     ]
    }
   ],
   "source": [
    "dia_semana = input(\"Que dia é hoje: \")\n",
    "hora = int(input('Digite a hora atual: '))\n",
    "\n",
    "if (dia_semana == 'quarta' and hora>=19):\n",
    "  print('Aula de Programação')\n",
    "else:\n",
    "  print('Hoje é Desenvolvimento de Games')\n",
    "  "
   ]
  },
  {
   "cell_type": "markdown",
   "metadata": {},
   "source": [
    "#Função"
   ]
  },
  {
   "cell_type": "code",
   "execution_count": null,
   "metadata": {},
   "outputs": [
    {
     "data": {
      "text/plain": [
       "'Olá joão, seja bem vindo!'"
      ]
     },
     "execution_count": 15,
     "metadata": {},
     "output_type": "execute_result"
    }
   ],
   "source": [
    "def saudacao(text):\n",
    "  return (f'Olá {text}, seja bem vindo!')\n",
    "  \n",
    "  \n",
    "nome = input(\"Digite seu nome: \")\n",
    "frase = saudacao(nome)\n",
    "print(frase)"
   ]
  },
  {
   "cell_type": "code",
   "execution_count": null,
   "metadata": {},
   "outputs": [],
   "source": []
  },
  {
   "cell_type": "code",
   "execution_count": null,
   "metadata": {},
   "outputs": [
    {
     "name": "stdout",
     "output_type": "stream",
     "text": [
      "O resultado da operação de MULTIPLICAÇÃO de 7.0 e 900.0 é 6300.0\n"
     ]
    }
   ],
   "source": [
    "\n",
    "def soma(num1, num2):\n",
    "  #return [num1+num2, 'SOMA'] # Usando Lista  \n",
    "  return {'operacao':'SOMA','resultado':num1+num2}\n",
    "\n",
    "def sub(num1, num2):\n",
    "  return {'operacao':'SUBTRACAO','resultado':num1-num2}\n",
    "\n",
    "def mult(num1, num2):\n",
    "  return {'operacao':'MULTIPLICAÇÃO','resultado':num1*num2}\n",
    "\n",
    "def div(num1, num2):\n",
    "  return {'operacao':'DIVISAO','resultado':num1/num2}\n",
    "\n",
    "def porc(num1, num2):\n",
    "  return {'operacao':'PORCENTAGEM','resultado': (num1*num2)/100 }\n",
    "\n",
    "\n",
    "a = float(input('Digite um numero: '))\n",
    "b = float(input('Digite outro numero: '))\n",
    "\n",
    "calc = mult(a,b)\n",
    "# print(f'O resultado da operação de {calc[0]} de {a} e {b} é {calc[1]}')\n",
    "print(f'O resultado da operação de {calc['operacao']} de {a} e {b} é {calc['resultado']}')"
   ]
  },
  {
   "cell_type": "code",
   "execution_count": null,
   "metadata": {},
   "outputs": [],
   "source": []
  }
 ],
 "metadata": {
  "kernelspec": {
   "display_name": "Python 3",
   "language": "python",
   "name": "python3"
  },
  "language_info": {
   "codemirror_mode": {
    "name": "ipython",
    "version": 3
   },
   "file_extension": ".py",
   "mimetype": "text/x-python",
   "name": "python",
   "nbconvert_exporter": "python",
   "pygments_lexer": "ipython3",
   "version": "3.13.1"
  }
 },
 "nbformat": 4,
 "nbformat_minor": 2
}
