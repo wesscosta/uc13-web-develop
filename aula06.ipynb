{
 "cells": [
  {
   "cell_type": "code",
   "execution_count": 7,
   "metadata": {},
   "outputs": [
    {
     "name": "stdout",
     "output_type": "stream",
     "text": [
      "Sextouuuuuuuuuuuuuuuuuuuuuuuuuuuuuu, urrruuuuuu!!\n"
     ]
    }
   ],
   "source": [
    "dia = input(\"Digite o dia da semana: \").lower()\n",
    "\n",
    "if dia == \"segunda\":\n",
    "    print(\"Início da semana, foco total!\")\n",
    "elif dia == 'sexta':\n",
    "    print(\"Sextouuuuuuuuuuuuuuuuuuuuuuuuuuuuuu, urrruuuuuu!!\")\n",
    "else:\n",
    "    print(\"Dia comum.\")"
   ]
  },
  {
   "cell_type": "code",
   "execution_count": 12,
   "metadata": {},
   "outputs": [
    {
     "name": "stdout",
     "output_type": "stream",
     "text": [
      "Hoje É Sexta Feira Amanhã é sabado e depois domingo\n",
      "Dia comum.\n"
     ]
    }
   ],
   "source": [
    " dia = input(\"Digite o dia da semana: \").lower() #metodo para converter em minusculo\n",
    "# dia2 = input(\"Digite o dia da semana: \").upper() # Deixa o texto maiusculo\n",
    "#dia = input(\"Digite o dia da semana: \").title() # cada inicial das palavras Maiusculas\n",
    "#dia2 = input(\"Digite o dia da semana: \").capitalize() #inicial da primeira palavra da frase\n",
    "\n",
    "\n",
    "match dia:\n",
    "  case \"segunda\":\n",
    "      print(\"Início da semana, foco total!\")\n",
    "  case \"sexta\":\n",
    "      print(\"Sextou!\")\n",
    "  case \"sábado\" | \"domingo\":\n",
    "      print(\"É fim de semana, aproveite!\")\n",
    "  case _:\n",
    "      print(\"Dia comum.\")\n",
    "\n"
   ]
  },
  {
   "cell_type": "code",
   "execution_count": 40,
   "metadata": {},
   "outputs": [
    {
     "name": "stdout",
     "output_type": "stream",
     "text": [
      "1.15\n",
      "1.65\n",
      "Achei o cara de 1,80\n"
     ]
    }
   ],
   "source": [
    "frase = 'hoje é Quarta feira'\n",
    "dias = [1.15, 1.65,1.80,1.90]\n",
    "\n",
    "for x in dias:\n",
    "  if x == 1.80:\n",
    "    print('Achei o cara de 1,80')\n",
    "    break\n",
    "  print(x)"
   ]
  }
 ],
 "metadata": {
  "kernelspec": {
   "display_name": "Python 3",
   "language": "python",
   "name": "python3"
  },
  "language_info": {
   "codemirror_mode": {
    "name": "ipython",
    "version": 3
   },
   "file_extension": ".py",
   "mimetype": "text/x-python",
   "name": "python",
   "nbconvert_exporter": "python",
   "pygments_lexer": "ipython3",
   "version": "3.13.1"
  }
 },
 "nbformat": 4,
 "nbformat_minor": 2
}
