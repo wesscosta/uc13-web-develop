{
 "cells": [
  {
   "cell_type": "markdown",
   "metadata": {},
   "source": [
    "01 - Declare uma variável para armazenar o nome de um usuário e exiba a mensagem:"
   ]
  },
  {
   "cell_type": "code",
   "execution_count": 8,
   "metadata": {},
   "outputs": [
    {
     "name": "stdout",
     "output_type": "stream",
     "text": [
      "fabio\n"
     ]
    }
   ],
   "source": [
    "nom = (input(\"nome\"))\n",
    "\n",
    "print(nom)"
   ]
  },
  {
   "cell_type": "markdown",
   "metadata": {},
   "source": [
    "02. Escreva um programa que solicite dois números ao usuário, some-os e exiba o resultado."
   ]
  },
  {
   "cell_type": "code",
   "execution_count": 12,
   "metadata": {},
   "outputs": [
    {
     "name": "stdout",
     "output_type": "stream",
     "text": [
      "o resultado da soma é :2945\n"
     ]
    }
   ],
   "source": [
    "n1 = float(input(\"digite o primeiro numero:\"))\n",
    "n2 = float(input(\"digite o segundo numero:\"))\n",
    "r = n1 + n2 \n",
    "print(f\"o resultado da soma é :{int(r)}\")"
   ]
  },
  {
   "cell_type": "markdown",
   "metadata": {},
   "source": [
    "03. Um usuário informa a distância percorrida (em quilômetros, como número inteiro) e o tempo gasto (em horas, como número decimal). Calcule e mostre a velocidade média."
   ]
  },
  {
   "cell_type": "code",
   "execution_count": 28,
   "metadata": {},
   "outputs": [
    {
     "name": "stdout",
     "output_type": "stream",
     "text": [
      "A velocidade média é: 3.33\n"
     ]
    }
   ],
   "source": [
    "distancia = int(input('Distância'))\n",
    "tempo = float(input('Tempo gasto'))\n",
    "velocidade=distancia/tempo\n",
    "print(\"A velocidade média é: %.2f\" %velocidade)"
   ]
  },
  {
   "cell_type": "markdown",
   "metadata": {},
   "source": [
    "04. Qual o tipo de dado resultante na operação:\n",
    "- 'python'\n",
    "- 'CopiarEditar'\n",
    "- 10 / 3\n"
   ]
  },
  {
   "cell_type": "code",
   "execution_count": 20,
   "metadata": {},
   "outputs": [
    {
     "name": "stdout",
     "output_type": "stream",
     "text": [
      "<class 'str'>\n",
      "<class 'str'>\n",
      "<class 'float'>\n"
     ]
    }
   ],
   "source": [
    "print (type('python'))\n",
    "print (type('CopiarEditar'))\n",
    "print (type(10/3))"
   ]
  },
  {
   "cell_type": "code",
   "execution_count": 30,
   "metadata": {},
   "outputs": [
    {
     "name": "stdout",
     "output_type": "stream",
     "text": [
      "Olá Mundo, hoje é 10.00 horas\n"
     ]
    }
   ],
   "source": [
    "texto = 'Olá Mundo, hoje é {horas:.2f} horas'\n",
    "print(texto.format(horas = 10))"
   ]
  }
 ],
 "metadata": {
  "kernelspec": {
   "display_name": "Python 3",
   "language": "python",
   "name": "python3"
  },
  "language_info": {
   "codemirror_mode": {
    "name": "ipython",
    "version": 3
   },
   "file_extension": ".py",
   "mimetype": "text/x-python",
   "name": "python",
   "nbconvert_exporter": "python",
   "pygments_lexer": "ipython3",
   "version": "3.13.1"
  }
 },
 "nbformat": 4,
 "nbformat_minor": 2
}
